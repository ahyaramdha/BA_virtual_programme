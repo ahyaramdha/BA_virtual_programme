{
 "cells": [
  {
   "cell_type": "code",
   "execution_count": 1,
   "id": "b638752a",
   "metadata": {},
   "outputs": [],
   "source": [
    "import numpy as np\n",
    "import pandas as pd\n",
    "import matplotlib.pyplot as plt\n",
    "import seaborn as sns\n",
    "import sklearn\n",
    "from sklearn import preprocessing\n",
    "\n",
    "import warnings\n",
    "warnings.filterwarnings(\"ignore\")\n",
    "%matplotlib inline\n",
    "\n",
    "from sklearn.preprocessing import StandardScaler\n",
    "import sklearn\n",
    "from sklearn import preprocessing\n",
    "# To perform KMeans clustering \n",
    "from sklearn.cluster import KMeans\n",
    "from sklearn.metrics import silhouette_score\n",
    "from sklearn.feature_selection import mutual_info_classif #ukur dependensi variabel kategorik\n",
    "from sklearn.feature_selection import mutual_info_regression #ukur dependensi variabel numerik"
   ]
  },
  {
   "cell_type": "code",
   "execution_count": 2,
   "id": "b719f1bb",
   "metadata": {},
   "outputs": [
    {
     "name": "stdout",
     "output_type": "stream",
     "text": [
      "{'encoding': 'ISO-8859-1', 'confidence': 0.73, 'language': ''}\n"
     ]
    }
   ],
   "source": [
    "import chardet\n",
    "\n",
    "with open('customer_booking.csv', 'rb') as rawdata:\n",
    "  result = chardet.detect(rawdata.read(100000))\n",
    "\n",
    "print(result)"
   ]
  },
  {
   "cell_type": "code",
   "execution_count": 3,
   "id": "17dcc0c5",
   "metadata": {},
   "outputs": [
    {
     "data": {
      "text/html": [
       "<div>\n",
       "<style scoped>\n",
       "    .dataframe tbody tr th:only-of-type {\n",
       "        vertical-align: middle;\n",
       "    }\n",
       "\n",
       "    .dataframe tbody tr th {\n",
       "        vertical-align: top;\n",
       "    }\n",
       "\n",
       "    .dataframe thead th {\n",
       "        text-align: right;\n",
       "    }\n",
       "</style>\n",
       "<table border=\"1\" class=\"dataframe\">\n",
       "  <thead>\n",
       "    <tr style=\"text-align: right;\">\n",
       "      <th></th>\n",
       "      <th>num_passengers</th>\n",
       "      <th>sales_channel</th>\n",
       "      <th>trip_type</th>\n",
       "      <th>purchase_lead</th>\n",
       "      <th>length_of_stay</th>\n",
       "      <th>flight_hour</th>\n",
       "      <th>flight_day</th>\n",
       "      <th>route</th>\n",
       "      <th>booking_origin</th>\n",
       "      <th>wants_extra_baggage</th>\n",
       "      <th>wants_preferred_seat</th>\n",
       "      <th>wants_in_flight_meals</th>\n",
       "      <th>flight_duration</th>\n",
       "      <th>booking_complete</th>\n",
       "    </tr>\n",
       "  </thead>\n",
       "  <tbody>\n",
       "    <tr>\n",
       "      <th>0</th>\n",
       "      <td>2</td>\n",
       "      <td>Internet</td>\n",
       "      <td>RoundTrip</td>\n",
       "      <td>262</td>\n",
       "      <td>19</td>\n",
       "      <td>7</td>\n",
       "      <td>Sat</td>\n",
       "      <td>AKLDEL</td>\n",
       "      <td>New Zealand</td>\n",
       "      <td>1</td>\n",
       "      <td>0</td>\n",
       "      <td>0</td>\n",
       "      <td>5.52</td>\n",
       "      <td>0</td>\n",
       "    </tr>\n",
       "    <tr>\n",
       "      <th>1</th>\n",
       "      <td>1</td>\n",
       "      <td>Internet</td>\n",
       "      <td>RoundTrip</td>\n",
       "      <td>112</td>\n",
       "      <td>20</td>\n",
       "      <td>3</td>\n",
       "      <td>Sat</td>\n",
       "      <td>AKLDEL</td>\n",
       "      <td>New Zealand</td>\n",
       "      <td>0</td>\n",
       "      <td>0</td>\n",
       "      <td>0</td>\n",
       "      <td>5.52</td>\n",
       "      <td>0</td>\n",
       "    </tr>\n",
       "    <tr>\n",
       "      <th>2</th>\n",
       "      <td>2</td>\n",
       "      <td>Internet</td>\n",
       "      <td>RoundTrip</td>\n",
       "      <td>243</td>\n",
       "      <td>22</td>\n",
       "      <td>17</td>\n",
       "      <td>Wed</td>\n",
       "      <td>AKLDEL</td>\n",
       "      <td>India</td>\n",
       "      <td>1</td>\n",
       "      <td>1</td>\n",
       "      <td>0</td>\n",
       "      <td>5.52</td>\n",
       "      <td>0</td>\n",
       "    </tr>\n",
       "    <tr>\n",
       "      <th>3</th>\n",
       "      <td>1</td>\n",
       "      <td>Internet</td>\n",
       "      <td>RoundTrip</td>\n",
       "      <td>96</td>\n",
       "      <td>31</td>\n",
       "      <td>4</td>\n",
       "      <td>Sat</td>\n",
       "      <td>AKLDEL</td>\n",
       "      <td>New Zealand</td>\n",
       "      <td>0</td>\n",
       "      <td>0</td>\n",
       "      <td>1</td>\n",
       "      <td>5.52</td>\n",
       "      <td>0</td>\n",
       "    </tr>\n",
       "    <tr>\n",
       "      <th>4</th>\n",
       "      <td>2</td>\n",
       "      <td>Internet</td>\n",
       "      <td>RoundTrip</td>\n",
       "      <td>68</td>\n",
       "      <td>22</td>\n",
       "      <td>15</td>\n",
       "      <td>Wed</td>\n",
       "      <td>AKLDEL</td>\n",
       "      <td>India</td>\n",
       "      <td>1</td>\n",
       "      <td>0</td>\n",
       "      <td>1</td>\n",
       "      <td>5.52</td>\n",
       "      <td>0</td>\n",
       "    </tr>\n",
       "  </tbody>\n",
       "</table>\n",
       "</div>"
      ],
      "text/plain": [
       "   num_passengers sales_channel  trip_type  purchase_lead  length_of_stay  \\\n",
       "0               2      Internet  RoundTrip            262              19   \n",
       "1               1      Internet  RoundTrip            112              20   \n",
       "2               2      Internet  RoundTrip            243              22   \n",
       "3               1      Internet  RoundTrip             96              31   \n",
       "4               2      Internet  RoundTrip             68              22   \n",
       "\n",
       "   flight_hour flight_day   route booking_origin  wants_extra_baggage  \\\n",
       "0            7        Sat  AKLDEL    New Zealand                    1   \n",
       "1            3        Sat  AKLDEL    New Zealand                    0   \n",
       "2           17        Wed  AKLDEL          India                    1   \n",
       "3            4        Sat  AKLDEL    New Zealand                    0   \n",
       "4           15        Wed  AKLDEL          India                    1   \n",
       "\n",
       "   wants_preferred_seat  wants_in_flight_meals  flight_duration  \\\n",
       "0                     0                      0             5.52   \n",
       "1                     0                      0             5.52   \n",
       "2                     1                      0             5.52   \n",
       "3                     0                      1             5.52   \n",
       "4                     0                      1             5.52   \n",
       "\n",
       "   booking_complete  \n",
       "0                 0  \n",
       "1                 0  \n",
       "2                 0  \n",
       "3                 0  \n",
       "4                 0  "
      ]
     },
     "execution_count": 3,
     "metadata": {},
     "output_type": "execute_result"
    }
   ],
   "source": [
    "df = pd.read_csv('customer_booking.csv', encoding= 'ISO-8859-1')\n",
    "df.head(5)"
   ]
  },
  {
   "cell_type": "markdown",
   "id": "9bd91ae0",
   "metadata": {},
   "source": [
    "## Ubah format data"
   ]
  },
  {
   "cell_type": "code",
   "execution_count": 4,
   "id": "6e6a80bc",
   "metadata": {},
   "outputs": [
    {
     "name": "stdout",
     "output_type": "stream",
     "text": [
      "<class 'pandas.core.frame.DataFrame'>\n",
      "RangeIndex: 50000 entries, 0 to 49999\n",
      "Data columns (total 14 columns):\n",
      " #   Column                 Non-Null Count  Dtype  \n",
      "---  ------                 --------------  -----  \n",
      " 0   num_passengers         50000 non-null  int64  \n",
      " 1   sales_channel          50000 non-null  object \n",
      " 2   trip_type              50000 non-null  object \n",
      " 3   purchase_lead          50000 non-null  int64  \n",
      " 4   length_of_stay         50000 non-null  int64  \n",
      " 5   flight_hour            50000 non-null  int64  \n",
      " 6   flight_day             50000 non-null  object \n",
      " 7   route                  50000 non-null  object \n",
      " 8   booking_origin         50000 non-null  object \n",
      " 9   wants_extra_baggage    50000 non-null  int64  \n",
      " 10  wants_preferred_seat   50000 non-null  int64  \n",
      " 11  wants_in_flight_meals  50000 non-null  int64  \n",
      " 12  flight_duration        50000 non-null  float64\n",
      " 13  booking_complete       50000 non-null  int64  \n",
      "dtypes: float64(1), int64(8), object(5)\n",
      "memory usage: 5.3+ MB\n"
     ]
    }
   ],
   "source": [
    "df.info()"
   ]
  },
  {
   "cell_type": "code",
   "execution_count": 5,
   "id": "1a6204d0",
   "metadata": {},
   "outputs": [
    {
     "name": "stdout",
     "output_type": "stream",
     "text": [
      "cek jumlah nilai di kolom\n",
      "rute: 799\n",
      "sales_channel: 2\n",
      "rute: 3\n",
      "booking: 2\n",
      "hour: 24\n"
     ]
    }
   ],
   "source": [
    "print('cek jumlah nilai di kolom')\n",
    "print(f'rute:', df['route'].nunique())\n",
    "print(f'sales_channel:', df['sales_channel'].nunique())\n",
    "print(f'rute:', df['trip_type'].nunique())\n",
    "print(f'booking:', df['booking_complete'].nunique())\n",
    "print(f'hour:', df['flight_hour'].nunique())"
   ]
  },
  {
   "cell_type": "markdown",
   "id": "dd1bb5f3",
   "metadata": {},
   "source": [
    "# EDA"
   ]
  },
  {
   "cell_type": "code",
   "execution_count": 6,
   "id": "adf07838",
   "metadata": {},
   "outputs": [
    {
     "data": {
      "text/html": [
       "<div>\n",
       "<style scoped>\n",
       "    .dataframe tbody tr th:only-of-type {\n",
       "        vertical-align: middle;\n",
       "    }\n",
       "\n",
       "    .dataframe tbody tr th {\n",
       "        vertical-align: top;\n",
       "    }\n",
       "\n",
       "    .dataframe thead th {\n",
       "        text-align: right;\n",
       "    }\n",
       "</style>\n",
       "<table border=\"1\" class=\"dataframe\">\n",
       "  <thead>\n",
       "    <tr style=\"text-align: right;\">\n",
       "      <th></th>\n",
       "      <th>index</th>\n",
       "      <th>num_passengers</th>\n",
       "      <th>sales_channel</th>\n",
       "      <th>trip_type</th>\n",
       "      <th>purchase_lead</th>\n",
       "      <th>length_of_stay</th>\n",
       "      <th>flight_hour</th>\n",
       "      <th>flight_day</th>\n",
       "      <th>route</th>\n",
       "      <th>booking_origin</th>\n",
       "      <th>wants_extra_baggage</th>\n",
       "      <th>wants_preferred_seat</th>\n",
       "      <th>wants_in_flight_meals</th>\n",
       "      <th>flight_duration</th>\n",
       "      <th>booking_complete</th>\n",
       "    </tr>\n",
       "  </thead>\n",
       "  <tbody>\n",
       "    <tr>\n",
       "      <th>0</th>\n",
       "      <td>0</td>\n",
       "      <td>2</td>\n",
       "      <td>Internet</td>\n",
       "      <td>RoundTrip</td>\n",
       "      <td>262</td>\n",
       "      <td>19</td>\n",
       "      <td>7</td>\n",
       "      <td>Sat</td>\n",
       "      <td>AKLDEL</td>\n",
       "      <td>New Zealand</td>\n",
       "      <td>1</td>\n",
       "      <td>0</td>\n",
       "      <td>0</td>\n",
       "      <td>5.52</td>\n",
       "      <td>0</td>\n",
       "    </tr>\n",
       "    <tr>\n",
       "      <th>1</th>\n",
       "      <td>1</td>\n",
       "      <td>1</td>\n",
       "      <td>Internet</td>\n",
       "      <td>RoundTrip</td>\n",
       "      <td>112</td>\n",
       "      <td>20</td>\n",
       "      <td>3</td>\n",
       "      <td>Sat</td>\n",
       "      <td>AKLDEL</td>\n",
       "      <td>New Zealand</td>\n",
       "      <td>0</td>\n",
       "      <td>0</td>\n",
       "      <td>0</td>\n",
       "      <td>5.52</td>\n",
       "      <td>0</td>\n",
       "    </tr>\n",
       "  </tbody>\n",
       "</table>\n",
       "</div>"
      ],
      "text/plain": [
       "   index  num_passengers sales_channel  trip_type  purchase_lead  \\\n",
       "0      0               2      Internet  RoundTrip            262   \n",
       "1      1               1      Internet  RoundTrip            112   \n",
       "\n",
       "   length_of_stay  flight_hour flight_day   route booking_origin  \\\n",
       "0              19            7        Sat  AKLDEL    New Zealand   \n",
       "1              20            3        Sat  AKLDEL    New Zealand   \n",
       "\n",
       "   wants_extra_baggage  wants_preferred_seat  wants_in_flight_meals  \\\n",
       "0                    1                     0                      0   \n",
       "1                    0                     0                      0   \n",
       "\n",
       "   flight_duration  booking_complete  \n",
       "0             5.52                 0  \n",
       "1             5.52                 0  "
      ]
     },
     "execution_count": 6,
     "metadata": {},
     "output_type": "execute_result"
    }
   ],
   "source": [
    "df2 = df.reset_index()\n",
    "df2.head(2)"
   ]
  },
  {
   "cell_type": "markdown",
   "id": "f428f881",
   "metadata": {},
   "source": [
    "## Booking Status Distribution"
   ]
  },
  {
   "cell_type": "code",
   "execution_count": 7,
   "id": "ef85e3b8",
   "metadata": {},
   "outputs": [],
   "source": [
    "colors = plt.cm.tab10.colors"
   ]
  },
  {
   "cell_type": "code",
   "execution_count": 8,
   "id": "378c2d26",
   "metadata": {},
   "outputs": [],
   "source": [
    "status_counts = df['booking_complete'].value_counts()"
   ]
  },
  {
   "cell_type": "code",
   "execution_count": 9,
   "id": "ca7ee811",
   "metadata": {},
   "outputs": [
    {
     "data": {
      "image/png": "[encoded data removed]",
      "text/plain": [
       "<Figure size 360x360 with 1 Axes>"
      ]
     },
     "metadata": {},
     "output_type": "display_data"
    }
   ],
   "source": [
    "# Membuat pie chart\n",
    "plt.figure(figsize=(5, 5))\n",
    "plt.pie(status_counts, autopct='%1.1f%%', startangle=140, colors=colors)\n",
    "plt.title(\"Booking Status\\nDistribution\", fontsize = 25, color = 'Red')\n",
    "plt.axis('equal')  # Membuat lingkaran menjadi lingkaran penuh\n",
    "plt.legend(title=\"Status\", labels=['No', 'Yes'], loc=\"center right\", bbox_to_anchor = (1.23,0.5))\n",
    "\n",
    "plt.show()"
   ]
  },
  {
   "cell_type": "markdown",
   "id": "9af44940",
   "metadata": {},
   "source": [
    "## Booking Origin Distribution"
   ]
  },
  {
   "cell_type": "code",
   "execution_count": 10,
   "id": "a6bf557f",
   "metadata": {},
   "outputs": [
    {
     "data": {
      "text/html": [
       "<div>\n",
       "<style scoped>\n",
       "    .dataframe tbody tr th:only-of-type {\n",
       "        vertical-align: middle;\n",
       "    }\n",
       "\n",
       "    .dataframe tbody tr th {\n",
       "        vertical-align: top;\n",
       "    }\n",
       "\n",
       "    .dataframe thead th {\n",
       "        text-align: right;\n",
       "    }\n",
       "</style>\n",
       "<table border=\"1\" class=\"dataframe\">\n",
       "  <thead>\n",
       "    <tr style=\"text-align: right;\">\n",
       "      <th></th>\n",
       "      <th>index</th>\n",
       "      <th>booking_origin</th>\n",
       "    </tr>\n",
       "  </thead>\n",
       "  <tbody>\n",
       "    <tr>\n",
       "      <th>0</th>\n",
       "      <td>Australia</td>\n",
       "      <td>17872</td>\n",
       "    </tr>\n",
       "    <tr>\n",
       "      <th>1</th>\n",
       "      <td>Malaysia</td>\n",
       "      <td>7174</td>\n",
       "    </tr>\n",
       "    <tr>\n",
       "      <th>2</th>\n",
       "      <td>South Korea</td>\n",
       "      <td>4559</td>\n",
       "    </tr>\n",
       "    <tr>\n",
       "      <th>3</th>\n",
       "      <td>Japan</td>\n",
       "      <td>3885</td>\n",
       "    </tr>\n",
       "    <tr>\n",
       "      <th>4</th>\n",
       "      <td>China</td>\n",
       "      <td>3387</td>\n",
       "    </tr>\n",
       "    <tr>\n",
       "      <th>...</th>\n",
       "      <td>...</td>\n",
       "      <td>...</td>\n",
       "    </tr>\n",
       "    <tr>\n",
       "      <th>99</th>\n",
       "      <td>Panama</td>\n",
       "      <td>1</td>\n",
       "    </tr>\n",
       "    <tr>\n",
       "      <th>100</th>\n",
       "      <td>Tonga</td>\n",
       "      <td>1</td>\n",
       "    </tr>\n",
       "    <tr>\n",
       "      <th>101</th>\n",
       "      <td>Tanzania</td>\n",
       "      <td>1</td>\n",
       "    </tr>\n",
       "    <tr>\n",
       "      <th>102</th>\n",
       "      <td>Bulgaria</td>\n",
       "      <td>1</td>\n",
       "    </tr>\n",
       "    <tr>\n",
       "      <th>103</th>\n",
       "      <td>Svalbard &amp; Jan Mayen</td>\n",
       "      <td>1</td>\n",
       "    </tr>\n",
       "  </tbody>\n",
       "</table>\n",
       "<p>104 rows × 2 columns</p>\n",
       "</div>"
      ],
      "text/plain": [
       "                    index  booking_origin\n",
       "0               Australia           17872\n",
       "1                Malaysia            7174\n",
       "2             South Korea            4559\n",
       "3                   Japan            3885\n",
       "4                   China            3387\n",
       "..                    ...             ...\n",
       "99                 Panama               1\n",
       "100                 Tonga               1\n",
       "101              Tanzania               1\n",
       "102              Bulgaria               1\n",
       "103  Svalbard & Jan Mayen               1\n",
       "\n",
       "[104 rows x 2 columns]"
      ]
     },
     "execution_count": 10,
     "metadata": {},
     "output_type": "execute_result"
    }
   ],
   "source": [
    "orivalcount = df['booking_origin'].value_counts().reset_index()\n",
    "orivalcount"
   ]
  },
  {
   "cell_type": "code",
   "execution_count": 11,
   "id": "c4d4f143",
   "metadata": {},
   "outputs": [],
   "source": [
    "top_country = (df['booking_origin'].value_counts().reset_index().sort_values(by='booking_origin',ascending=False).head(10))"
   ]
  },
  {
   "cell_type": "code",
   "execution_count": 12,
   "id": "5642325d",
   "metadata": {},
   "outputs": [
    {
     "data": {
      "text/html": [
       "<div>\n",
       "<style scoped>\n",
       "    .dataframe tbody tr th:only-of-type {\n",
       "        vertical-align: middle;\n",
       "    }\n",
       "\n",
       "    .dataframe tbody tr th {\n",
       "        vertical-align: top;\n",
       "    }\n",
       "\n",
       "    .dataframe thead th {\n",
       "        text-align: right;\n",
       "    }\n",
       "</style>\n",
       "<table border=\"1\" class=\"dataframe\">\n",
       "  <thead>\n",
       "    <tr style=\"text-align: right;\">\n",
       "      <th></th>\n",
       "      <th>index</th>\n",
       "      <th>booking_origin</th>\n",
       "      <th>top_country</th>\n",
       "    </tr>\n",
       "  </thead>\n",
       "  <tbody>\n",
       "    <tr>\n",
       "      <th>0</th>\n",
       "      <td>Australia</td>\n",
       "      <td>17872</td>\n",
       "      <td>Australia</td>\n",
       "    </tr>\n",
       "    <tr>\n",
       "      <th>1</th>\n",
       "      <td>Malaysia</td>\n",
       "      <td>7174</td>\n",
       "      <td>Malaysia</td>\n",
       "    </tr>\n",
       "    <tr>\n",
       "      <th>2</th>\n",
       "      <td>South Korea</td>\n",
       "      <td>4559</td>\n",
       "      <td>South Korea</td>\n",
       "    </tr>\n",
       "    <tr>\n",
       "      <th>3</th>\n",
       "      <td>Japan</td>\n",
       "      <td>3885</td>\n",
       "      <td>Japan</td>\n",
       "    </tr>\n",
       "    <tr>\n",
       "      <th>4</th>\n",
       "      <td>China</td>\n",
       "      <td>3387</td>\n",
       "      <td>China</td>\n",
       "    </tr>\n",
       "    <tr>\n",
       "      <th>5</th>\n",
       "      <td>Indonesia</td>\n",
       "      <td>2369</td>\n",
       "      <td>Indonesia</td>\n",
       "    </tr>\n",
       "    <tr>\n",
       "      <th>6</th>\n",
       "      <td>Taiwan</td>\n",
       "      <td>2077</td>\n",
       "      <td>Taiwan</td>\n",
       "    </tr>\n",
       "    <tr>\n",
       "      <th>7</th>\n",
       "      <td>Thailand</td>\n",
       "      <td>2030</td>\n",
       "      <td>Thailand</td>\n",
       "    </tr>\n",
       "    <tr>\n",
       "      <th>8</th>\n",
       "      <td>India</td>\n",
       "      <td>1270</td>\n",
       "      <td>India</td>\n",
       "    </tr>\n",
       "    <tr>\n",
       "      <th>9</th>\n",
       "      <td>New Zealand</td>\n",
       "      <td>1074</td>\n",
       "      <td>New Zealand</td>\n",
       "    </tr>\n",
       "    <tr>\n",
       "      <th>10</th>\n",
       "      <td>Singapore</td>\n",
       "      <td>1044</td>\n",
       "      <td>Others</td>\n",
       "    </tr>\n",
       "    <tr>\n",
       "      <th>11</th>\n",
       "      <td>United States</td>\n",
       "      <td>456</td>\n",
       "      <td>Others</td>\n",
       "    </tr>\n",
       "    <tr>\n",
       "      <th>12</th>\n",
       "      <td>Vietnam</td>\n",
       "      <td>388</td>\n",
       "      <td>Others</td>\n",
       "    </tr>\n",
       "    <tr>\n",
       "      <th>13</th>\n",
       "      <td>Macau</td>\n",
       "      <td>304</td>\n",
       "      <td>Others</td>\n",
       "    </tr>\n",
       "    <tr>\n",
       "      <th>14</th>\n",
       "      <td>Hong Kong</td>\n",
       "      <td>295</td>\n",
       "      <td>Others</td>\n",
       "    </tr>\n",
       "  </tbody>\n",
       "</table>\n",
       "</div>"
      ],
      "text/plain": [
       "            index  booking_origin  top_country\n",
       "0       Australia           17872    Australia\n",
       "1        Malaysia            7174     Malaysia\n",
       "2     South Korea            4559  South Korea\n",
       "3           Japan            3885        Japan\n",
       "4           China            3387        China\n",
       "5       Indonesia            2369    Indonesia\n",
       "6          Taiwan            2077       Taiwan\n",
       "7        Thailand            2030     Thailand\n",
       "8           India            1270        India\n",
       "9     New Zealand            1074  New Zealand\n",
       "10      Singapore            1044       Others\n",
       "11  United States             456       Others\n",
       "12        Vietnam             388       Others\n",
       "13          Macau             304       Others\n",
       "14      Hong Kong             295       Others"
      ]
     },
     "execution_count": 12,
     "metadata": {},
     "output_type": "execute_result"
    }
   ],
   "source": [
    "orivalcount['top_country'] = orivalcount['index'].apply(lambda x: x if (x in top_country['index'].to_list()) else 'Others')\n",
    "orivalcount.head(15)"
   ]
  },
  {
   "cell_type": "code",
   "execution_count": 13,
   "id": "15bd46c8",
   "metadata": {
    "scrolled": true
   },
   "outputs": [
    {
     "data": {
      "image/png": "[encoded data removed]",
      "text/plain": [
       "<Figure size 720x360 with 1 Axes>"
      ]
     },
     "metadata": {
      "needs_background": "light"
     },
     "output_type": "display_data"
    }
   ],
   "source": [
    "orivalcount.groupby(['top_country'])['booking_origin'].sum().plot(kind = 'bar', figsize = (10,5), color = colors)\n",
    "plt.title('Top Most Booking Origin and Others', color = 'red', fontsize = 25, pad=15)\n",
    "plt.xlabel('Country', fontsize = 11, color = 'darkblue')\n",
    "plt.ylabel('Count', fontsize = 11, color = 'darkblue')\n",
    "plt.ylim(ymin = 0)\n",
    "plt.xticks(fontsize = 9, rotation = 30)\n",
    "plt.yticks(fontsize = 9)\n",
    "plt.show()"
   ]
  },
  {
   "cell_type": "markdown",
   "id": "ab35a3d9",
   "metadata": {},
   "source": [
    "## Number of Passanger Each Origin Distribution"
   ]
  },
  {
   "cell_type": "code",
   "execution_count": 14,
   "id": "e33cc120",
   "metadata": {},
   "outputs": [
    {
     "data": {
      "text/html": [
       "<div>\n",
       "<style scoped>\n",
       "    .dataframe tbody tr th:only-of-type {\n",
       "        vertical-align: middle;\n",
       "    }\n",
       "\n",
       "    .dataframe tbody tr th {\n",
       "        vertical-align: top;\n",
       "    }\n",
       "\n",
       "    .dataframe thead th {\n",
       "        text-align: right;\n",
       "    }\n",
       "</style>\n",
       "<table border=\"1\" class=\"dataframe\">\n",
       "  <thead>\n",
       "    <tr style=\"text-align: right;\">\n",
       "      <th></th>\n",
       "      <th>booking_origin</th>\n",
       "      <th>index</th>\n",
       "    </tr>\n",
       "  </thead>\n",
       "  <tbody>\n",
       "    <tr>\n",
       "      <th>103</th>\n",
       "      <td>Vietnam</td>\n",
       "      <td>9410899</td>\n",
       "    </tr>\n",
       "    <tr>\n",
       "      <th>102</th>\n",
       "      <td>Vanuatu</td>\n",
       "      <td>31556</td>\n",
       "    </tr>\n",
       "    <tr>\n",
       "      <th>101</th>\n",
       "      <td>United States</td>\n",
       "      <td>12394567</td>\n",
       "    </tr>\n",
       "    <tr>\n",
       "      <th>100</th>\n",
       "      <td>United Kingdom</td>\n",
       "      <td>3985433</td>\n",
       "    </tr>\n",
       "    <tr>\n",
       "      <th>99</th>\n",
       "      <td>United Arab Emirates</td>\n",
       "      <td>934132</td>\n",
       "    </tr>\n",
       "  </tbody>\n",
       "</table>\n",
       "</div>"
      ],
      "text/plain": [
       "           booking_origin     index\n",
       "103               Vietnam   9410899\n",
       "102               Vanuatu     31556\n",
       "101         United States  12394567\n",
       "100        United Kingdom   3985433\n",
       "99   United Arab Emirates    934132"
      ]
     },
     "execution_count": 14,
     "metadata": {},
     "output_type": "execute_result"
    }
   ],
   "source": [
    "top_pass = (df2.groupby(['booking_origin'])['index'].sum().reset_index().sort_values(by='booking_origin',ascending=False).head(5))\n",
    "top_pass"
   ]
  },
  {
   "cell_type": "code",
   "execution_count": 15,
   "id": "6daf6f66",
   "metadata": {},
   "outputs": [
    {
     "data": {
      "image/png": "[encoded data removed]",
      "text/plain": [
       "<Figure size 720x360 with 1 Axes>"
      ]
     },
     "metadata": {
      "needs_background": "light"
     },
     "output_type": "display_data"
    }
   ],
   "source": [
    "plt.figure(figsize = (10,5))\n",
    "plt.bar(top_pass['booking_origin'], top_pass['index'], color = colors)\n",
    "plt.title('Top Most Total Passenger Booking Origin', color = 'red', fontsize = 25, pad=15)\n",
    "plt.xlabel('Country', fontsize = 11, color = 'darkblue')\n",
    "plt.ylabel('Count (thousand)', fontsize = 11, color = 'darkblue')\n",
    "plt.ylim(ymin = 0)\n",
    "plt.xticks(fontsize = 9, rotation = 10)\n",
    "ytick_label, location = plt.yticks()\n",
    "plt.yticks(ytick_label, (ytick_label/1000).astype('int'), fontsize = 9)\n",
    "plt.show()"
   ]
  },
  {
   "cell_type": "markdown",
   "id": "64dd4600",
   "metadata": {},
   "source": [
    "## Relation between Booking Complete and ..."
   ]
  },
  {
   "cell_type": "markdown",
   "id": "91352fb3",
   "metadata": {},
   "source": [
    "### Flight Duration"
   ]
  },
  {
   "cell_type": "code",
   "execution_count": 16,
   "id": "13931524",
   "metadata": {},
   "outputs": [
    {
     "data": {
      "text/plain": [
       "booking_complete\n",
       "0    7.344266\n",
       "1    6.898258\n",
       "Name: flight_duration, dtype: float64"
      ]
     },
     "execution_count": 16,
     "metadata": {},
     "output_type": "execute_result"
    }
   ],
   "source": [
    "dfgroup1 = df.groupby(['booking_complete'])['flight_duration'].mean()\n",
    "dfgroup1"
   ]
  },
  {
   "cell_type": "code",
   "execution_count": 17,
   "id": "ec8ac902",
   "metadata": {},
   "outputs": [
    {
     "data": {
      "image/png": "[encoded data removed]",
      "text/plain": [
       "<Figure size 576x360 with 1 Axes>"
      ]
     },
     "metadata": {
      "needs_background": "light"
     },
     "output_type": "display_data"
    }
   ],
   "source": [
    "dfgroup1.plot(kind = 'bar', figsize = (8,5), color = colors)\n",
    "plt.title('Relation between Booking Completion Status\\nand Flight Duration', fontsize = 20, color = 'red', pad = 10)\n",
    "plt.xlabel('Booking Status', fontsize = 11, color = 'darkblue')\n",
    "plt.ylabel('Mean Flight Duration', fontsize = 11, color = 'darkblue')\n",
    "plt.yticks(fontsize = 9)\n",
    "plt.xticks(fontsize = 9, rotation = 0)\n",
    "plt.show()"
   ]
  },
  {
   "cell_type": "markdown",
   "id": "d6f32991",
   "metadata": {},
   "source": [
    "### Length of Stay"
   ]
  },
  {
   "cell_type": "code",
   "execution_count": 18,
   "id": "71997376",
   "metadata": {},
   "outputs": [
    {
     "data": {
      "text/plain": [
       "booking_complete\n",
       "0    23.647218\n",
       "1    19.617679\n",
       "Name: length_of_stay, dtype: float64"
      ]
     },
     "execution_count": 18,
     "metadata": {},
     "output_type": "execute_result"
    }
   ],
   "source": [
    "dfgroup2 = df.groupby(['booking_complete'])['length_of_stay'].mean()\n",
    "dfgroup2"
   ]
  },
  {
   "cell_type": "code",
   "execution_count": 19,
   "id": "891fd538",
   "metadata": {},
   "outputs": [
    {
     "data": {
      "image/png": "[encoded data removed]",
      "text/plain": [
       "<Figure size 576x360 with 1 Axes>"
      ]
     },
     "metadata": {
      "needs_background": "light"
     },
     "output_type": "display_data"
    }
   ],
   "source": [
    "dfgroup2.plot(kind = 'bar', figsize = (8,5), color = colors)\n",
    "plt.title('Relation between Booking Completion Status\\nand Stay Duration', fontsize = 20, color = 'red', pad = 10)\n",
    "plt.xlabel('Booking Status', fontsize = 11, color = 'darkblue')\n",
    "plt.ylabel('Mean Stay Duration', fontsize = 11, color = 'darkblue')\n",
    "plt.yticks(fontsize = 9)\n",
    "plt.xticks(fontsize = 9, rotation = 0)\n",
    "plt.show()"
   ]
  },
  {
   "cell_type": "markdown",
   "id": "ced540b8",
   "metadata": {},
   "source": [
    "### Purchase Lead"
   ]
  },
  {
   "cell_type": "code",
   "execution_count": 20,
   "id": "a713462a",
   "metadata": {},
   "outputs": [
    {
     "data": {
      "text/plain": [
       "booking_complete\n",
       "0    85.779926\n",
       "1    80.167157\n",
       "Name: purchase_lead, dtype: float64"
      ]
     },
     "execution_count": 20,
     "metadata": {},
     "output_type": "execute_result"
    }
   ],
   "source": [
    "dfgroup3 = df.groupby(['booking_complete'])['purchase_lead'].mean()\n",
    "dfgroup3"
   ]
  },
  {
   "cell_type": "code",
   "execution_count": 21,
   "id": "0f48f8dc",
   "metadata": {},
   "outputs": [
    {
     "data": {
      "image/png": "[encoded data removed]",
      "text/plain": [
       "<Figure size 576x360 with 1 Axes>"
      ]
     },
     "metadata": {
      "needs_background": "light"
     },
     "output_type": "display_data"
    }
   ],
   "source": [
    "dfgroup3.plot(kind = 'bar', figsize = (8,5), color = colors)\n",
    "plt.title('Relation between Booking Completion Status\\nand Purchase Lead', fontsize = 20, color = 'red', pad = 10)\n",
    "plt.xlabel('Booking Status', fontsize = 11, color = 'darkblue')\n",
    "plt.ylabel('Mean Purchase', fontsize = 11, color = 'darkblue')\n",
    "plt.yticks(fontsize = 9)\n",
    "plt.xticks(fontsize = 9, rotation = 0)\n",
    "plt.show()"
   ]
  },
  {
   "cell_type": "markdown",
   "id": "6979be96",
   "metadata": {},
   "source": [
    "### Sales Channel"
   ]
  },
  {
   "cell_type": "code",
   "execution_count": 22,
   "id": "f324668a",
   "metadata": {
    "scrolled": true
   },
   "outputs": [
    {
     "data": {
      "text/html": [
       "<div>\n",
       "<style scoped>\n",
       "    .dataframe tbody tr th:only-of-type {\n",
       "        vertical-align: middle;\n",
       "    }\n",
       "\n",
       "    .dataframe tbody tr th {\n",
       "        vertical-align: top;\n",
       "    }\n",
       "\n",
       "    .dataframe thead th {\n",
       "        text-align: right;\n",
       "    }\n",
       "</style>\n",
       "<table border=\"1\" class=\"dataframe\">\n",
       "  <thead>\n",
       "    <tr style=\"text-align: right;\">\n",
       "      <th>sales_channel</th>\n",
       "      <th>Internet</th>\n",
       "      <th>Mobile</th>\n",
       "    </tr>\n",
       "    <tr>\n",
       "      <th>booking_complete</th>\n",
       "      <th></th>\n",
       "      <th></th>\n",
       "    </tr>\n",
       "  </thead>\n",
       "  <tbody>\n",
       "    <tr>\n",
       "      <th>0</th>\n",
       "      <td>37513</td>\n",
       "      <td>5009</td>\n",
       "    </tr>\n",
       "    <tr>\n",
       "      <th>1</th>\n",
       "      <td>6869</td>\n",
       "      <td>609</td>\n",
       "    </tr>\n",
       "  </tbody>\n",
       "</table>\n",
       "</div>"
      ],
      "text/plain": [
       "sales_channel     Internet  Mobile\n",
       "booking_complete                  \n",
       "0                    37513    5009\n",
       "1                     6869     609"
      ]
     },
     "execution_count": 22,
     "metadata": {},
     "output_type": "execute_result"
    }
   ],
   "source": [
    "dfgroup4 = df2.groupby(['booking_complete', 'sales_channel'])['index'].count().unstack()\n",
    "dfgroup4"
   ]
  },
  {
   "cell_type": "code",
   "execution_count": 23,
   "id": "aa5634b8",
   "metadata": {},
   "outputs": [
    {
     "data": {
      "image/png": "[encoded data removed]",
      "text/plain": [
       "<Figure size 432x288 with 1 Axes>"
      ]
     },
     "metadata": {},
     "output_type": "display_data"
    },
    {
     "data": {
      "image/png": "[encoded data removed]",
      "text/plain": [
       "<Figure size 432x288 with 1 Axes>"
      ]
     },
     "metadata": {},
     "output_type": "display_data"
    }
   ],
   "source": [
    "# Membuat diagram pie chart untuk setiap jenis kolom \"durasi_stay\"\n",
    "for col in dfgroup4.columns[0:]:\n",
    "    plt.figure()\n",
    "    wedges, texts, autotexts = plt.pie(dfgroup4[col], \n",
    "                                       autopct='%1.1f%%', \n",
    "                                       colors=colors)\n",
    "    plt.title(f'Distribution of Booking Status\\nBased on Sales Channel: {col}', fontsize=17, pad=15, color = 'red')\n",
    "    plt.axis('equal')\n",
    "\n",
    "    # Create a legend based on the pie chart labels\n",
    "    plt.legend(wedges, \n",
    "               dfgroup4[col].index, \n",
    "               title='Status', \n",
    "               loc='center left', \n",
    "               bbox_to_anchor=(1, 0, 0.5, 1))\n",
    "    plt.show()"
   ]
  },
  {
   "cell_type": "markdown",
   "id": "4c52803d",
   "metadata": {},
   "source": [
    "### Trip Type"
   ]
  },
  {
   "cell_type": "code",
   "execution_count": 24,
   "id": "68b360e9",
   "metadata": {
    "scrolled": true
   },
   "outputs": [
    {
     "data": {
      "text/html": [
       "<div>\n",
       "<style scoped>\n",
       "    .dataframe tbody tr th:only-of-type {\n",
       "        vertical-align: middle;\n",
       "    }\n",
       "\n",
       "    .dataframe tbody tr th {\n",
       "        vertical-align: top;\n",
       "    }\n",
       "\n",
       "    .dataframe thead th {\n",
       "        text-align: right;\n",
       "    }\n",
       "</style>\n",
       "<table border=\"1\" class=\"dataframe\">\n",
       "  <thead>\n",
       "    <tr style=\"text-align: right;\">\n",
       "      <th>trip_type</th>\n",
       "      <th>CircleTrip</th>\n",
       "      <th>OneWay</th>\n",
       "      <th>RoundTrip</th>\n",
       "    </tr>\n",
       "    <tr>\n",
       "      <th>booking_complete</th>\n",
       "      <th></th>\n",
       "      <th></th>\n",
       "      <th></th>\n",
       "    </tr>\n",
       "  </thead>\n",
       "  <tbody>\n",
       "    <tr>\n",
       "      <th>0</th>\n",
       "      <td>111</td>\n",
       "      <td>367</td>\n",
       "      <td>42044</td>\n",
       "    </tr>\n",
       "    <tr>\n",
       "      <th>1</th>\n",
       "      <td>5</td>\n",
       "      <td>20</td>\n",
       "      <td>7453</td>\n",
       "    </tr>\n",
       "  </tbody>\n",
       "</table>\n",
       "</div>"
      ],
      "text/plain": [
       "trip_type         CircleTrip  OneWay  RoundTrip\n",
       "booking_complete                               \n",
       "0                        111     367      42044\n",
       "1                          5      20       7453"
      ]
     },
     "execution_count": 24,
     "metadata": {},
     "output_type": "execute_result"
    }
   ],
   "source": [
    "dfgroup5 = df2.groupby(['booking_complete', 'trip_type'])['index'].count().unstack()\n",
    "dfgroup5"
   ]
  },
  {
   "cell_type": "code",
   "execution_count": 25,
   "id": "6f32b9be",
   "metadata": {},
   "outputs": [
    {
     "data": {
      "image/png": "[encoded data removed]",
      "text/plain": [
       "<Figure size 432x288 with 1 Axes>"
      ]
     },
     "metadata": {},
     "output_type": "display_data"
    },
    {
     "data": {
      "image/png": "[encoded data removed]",
      "text/plain": [
       "<Figure size 432x288 with 1 Axes>"
      ]
     },
     "metadata": {},
     "output_type": "display_data"
    },
    {
     "data": {
      "image/png": "[encoded data removed]",
      "text/plain": [
       "<Figure size 432x288 with 1 Axes>"
      ]
     },
     "metadata": {},
     "output_type": "display_data"
    }
   ],
   "source": [
    "# Membuat diagram pie chart untuk setiap jenis kolom \"durasi_stay\"\n",
    "for col in dfgroup5.columns[0:]:\n",
    "    plt.figure()\n",
    "    wedges, texts, autotexts = plt.pie(dfgroup5[col], \n",
    "                                       autopct='%1.1f%%', \n",
    "                                       colors=colors)\n",
    "    plt.title(f'Distribution of Booking Status\\nBased on Trip Type: {col}', fontsize=17, pad=15, color = 'red')\n",
    "    plt.axis('equal')\n",
    "\n",
    "    # Create a legend based on the pie chart labels\n",
    "    plt.legend(wedges, \n",
    "               dfgroup5[col].index, \n",
    "               title='Status', \n",
    "               loc='center left', \n",
    "               bbox_to_anchor=(1, 0, 0.5, 1))\n",
    "    plt.show()"
   ]
  },
  {
   "cell_type": "markdown",
   "id": "7704edbf",
   "metadata": {},
   "source": [
    "# Modeling"
   ]
  },
  {
   "cell_type": "code",
   "execution_count": 26,
   "id": "1fc46291",
   "metadata": {},
   "outputs": [
    {
     "data": {
      "text/plain": [
       "Index(['num_passengers', 'sales_channel', 'trip_type', 'purchase_lead',\n",
       "       'length_of_stay', 'flight_hour', 'flight_day', 'route',\n",
       "       'booking_origin', 'wants_extra_baggage', 'wants_preferred_seat',\n",
       "       'wants_in_flight_meals', 'flight_duration', 'booking_complete'],\n",
       "      dtype='object')"
      ]
     },
     "execution_count": 26,
     "metadata": {},
     "output_type": "execute_result"
    }
   ],
   "source": [
    "df.columns"
   ]
  },
  {
   "cell_type": "code",
   "execution_count": 27,
   "id": "944e6c77",
   "metadata": {},
   "outputs": [],
   "source": [
    "dfnew = df"
   ]
  },
  {
   "cell_type": "code",
   "execution_count": 28,
   "id": "48dea369",
   "metadata": {},
   "outputs": [
    {
     "data": {
      "text/plain": [
       "Index(['num_passengers', 'purchase_lead', 'length_of_stay', 'flight_hour',\n",
       "       'booking_origin', 'wants_extra_baggage', 'wants_preferred_seat',\n",
       "       'wants_in_flight_meals', 'flight_duration', 'booking_complete',\n",
       "       ...\n",
       "       'route_TGGXIY', 'route_TPETRZ', 'route_TPETWU', 'route_TPEURT',\n",
       "       'route_TPEVTE', 'route_TRZWUH', 'route_TRZXIY', 'route_TWUWUH',\n",
       "       'route_TWUXIY', 'route_URTXIY'],\n",
       "      dtype='object', length=817)"
      ]
     },
     "execution_count": 28,
     "metadata": {},
     "output_type": "execute_result"
    }
   ],
   "source": [
    "from sklearn.preprocessing import OneHotEncoder\n",
    "\n",
    "selected_columns = ['sales_channel', 'trip_type', 'flight_day', 'route']\n",
    "\n",
    "encoded_columns = pd.get_dummies(dfnew[selected_columns], prefix=selected_columns, drop_first=True)\n",
    "\n",
    "dfnew = pd.concat([dfnew, encoded_columns], axis=1)\n",
    "\n",
    "dfnew.drop(columns=selected_columns, inplace=True)\n",
    "dfnew.columns"
   ]
  },
  {
   "cell_type": "markdown",
   "id": "ccec7a54",
   "metadata": {},
   "source": [
    "drop booking_origin as a variable to this model untuk menghindari ketidakseimbangan data"
   ]
  },
  {
   "cell_type": "code",
   "execution_count": 29,
   "id": "ca908ae9",
   "metadata": {},
   "outputs": [
    {
     "data": {
      "text/html": [
       "<div>\n",
       "<style scoped>\n",
       "    .dataframe tbody tr th:only-of-type {\n",
       "        vertical-align: middle;\n",
       "    }\n",
       "\n",
       "    .dataframe tbody tr th {\n",
       "        vertical-align: top;\n",
       "    }\n",
       "\n",
       "    .dataframe thead th {\n",
       "        text-align: right;\n",
       "    }\n",
       "</style>\n",
       "<table border=\"1\" class=\"dataframe\">\n",
       "  <thead>\n",
       "    <tr style=\"text-align: right;\">\n",
       "      <th></th>\n",
       "      <th>num_passengers</th>\n",
       "      <th>purchase_lead</th>\n",
       "      <th>length_of_stay</th>\n",
       "      <th>flight_hour</th>\n",
       "      <th>wants_extra_baggage</th>\n",
       "      <th>wants_preferred_seat</th>\n",
       "      <th>wants_in_flight_meals</th>\n",
       "      <th>flight_duration</th>\n",
       "      <th>sales_channel_Mobile</th>\n",
       "      <th>trip_type_OneWay</th>\n",
       "      <th>...</th>\n",
       "      <th>route_TGGXIY</th>\n",
       "      <th>route_TPETRZ</th>\n",
       "      <th>route_TPETWU</th>\n",
       "      <th>route_TPEURT</th>\n",
       "      <th>route_TPEVTE</th>\n",
       "      <th>route_TRZWUH</th>\n",
       "      <th>route_TRZXIY</th>\n",
       "      <th>route_TWUWUH</th>\n",
       "      <th>route_TWUXIY</th>\n",
       "      <th>route_URTXIY</th>\n",
       "    </tr>\n",
       "  </thead>\n",
       "  <tbody>\n",
       "    <tr>\n",
       "      <th>0</th>\n",
       "      <td>2</td>\n",
       "      <td>262</td>\n",
       "      <td>19</td>\n",
       "      <td>7</td>\n",
       "      <td>1</td>\n",
       "      <td>0</td>\n",
       "      <td>0</td>\n",
       "      <td>5.52</td>\n",
       "      <td>0</td>\n",
       "      <td>0</td>\n",
       "      <td>...</td>\n",
       "      <td>0</td>\n",
       "      <td>0</td>\n",
       "      <td>0</td>\n",
       "      <td>0</td>\n",
       "      <td>0</td>\n",
       "      <td>0</td>\n",
       "      <td>0</td>\n",
       "      <td>0</td>\n",
       "      <td>0</td>\n",
       "      <td>0</td>\n",
       "    </tr>\n",
       "    <tr>\n",
       "      <th>1</th>\n",
       "      <td>1</td>\n",
       "      <td>112</td>\n",
       "      <td>20</td>\n",
       "      <td>3</td>\n",
       "      <td>0</td>\n",
       "      <td>0</td>\n",
       "      <td>0</td>\n",
       "      <td>5.52</td>\n",
       "      <td>0</td>\n",
       "      <td>0</td>\n",
       "      <td>...</td>\n",
       "      <td>0</td>\n",
       "      <td>0</td>\n",
       "      <td>0</td>\n",
       "      <td>0</td>\n",
       "      <td>0</td>\n",
       "      <td>0</td>\n",
       "      <td>0</td>\n",
       "      <td>0</td>\n",
       "      <td>0</td>\n",
       "      <td>0</td>\n",
       "    </tr>\n",
       "    <tr>\n",
       "      <th>2</th>\n",
       "      <td>2</td>\n",
       "      <td>243</td>\n",
       "      <td>22</td>\n",
       "      <td>17</td>\n",
       "      <td>1</td>\n",
       "      <td>1</td>\n",
       "      <td>0</td>\n",
       "      <td>5.52</td>\n",
       "      <td>0</td>\n",
       "      <td>0</td>\n",
       "      <td>...</td>\n",
       "      <td>0</td>\n",
       "      <td>0</td>\n",
       "      <td>0</td>\n",
       "      <td>0</td>\n",
       "      <td>0</td>\n",
       "      <td>0</td>\n",
       "      <td>0</td>\n",
       "      <td>0</td>\n",
       "      <td>0</td>\n",
       "      <td>0</td>\n",
       "    </tr>\n",
       "    <tr>\n",
       "      <th>3</th>\n",
       "      <td>1</td>\n",
       "      <td>96</td>\n",
       "      <td>31</td>\n",
       "      <td>4</td>\n",
       "      <td>0</td>\n",
       "      <td>0</td>\n",
       "      <td>1</td>\n",
       "      <td>5.52</td>\n",
       "      <td>0</td>\n",
       "      <td>0</td>\n",
       "      <td>...</td>\n",
       "      <td>0</td>\n",
       "      <td>0</td>\n",
       "      <td>0</td>\n",
       "      <td>0</td>\n",
       "      <td>0</td>\n",
       "      <td>0</td>\n",
       "      <td>0</td>\n",
       "      <td>0</td>\n",
       "      <td>0</td>\n",
       "      <td>0</td>\n",
       "    </tr>\n",
       "    <tr>\n",
       "      <th>4</th>\n",
       "      <td>2</td>\n",
       "      <td>68</td>\n",
       "      <td>22</td>\n",
       "      <td>15</td>\n",
       "      <td>1</td>\n",
       "      <td>0</td>\n",
       "      <td>1</td>\n",
       "      <td>5.52</td>\n",
       "      <td>0</td>\n",
       "      <td>0</td>\n",
       "      <td>...</td>\n",
       "      <td>0</td>\n",
       "      <td>0</td>\n",
       "      <td>0</td>\n",
       "      <td>0</td>\n",
       "      <td>0</td>\n",
       "      <td>0</td>\n",
       "      <td>0</td>\n",
       "      <td>0</td>\n",
       "      <td>0</td>\n",
       "      <td>0</td>\n",
       "    </tr>\n",
       "    <tr>\n",
       "      <th>...</th>\n",
       "      <td>...</td>\n",
       "      <td>...</td>\n",
       "      <td>...</td>\n",
       "      <td>...</td>\n",
       "      <td>...</td>\n",
       "      <td>...</td>\n",
       "      <td>...</td>\n",
       "      <td>...</td>\n",
       "      <td>...</td>\n",
       "      <td>...</td>\n",
       "      <td>...</td>\n",
       "      <td>...</td>\n",
       "      <td>...</td>\n",
       "      <td>...</td>\n",
       "      <td>...</td>\n",
       "      <td>...</td>\n",
       "      <td>...</td>\n",
       "      <td>...</td>\n",
       "      <td>...</td>\n",
       "      <td>...</td>\n",
       "      <td>...</td>\n",
       "    </tr>\n",
       "    <tr>\n",
       "      <th>49995</th>\n",
       "      <td>2</td>\n",
       "      <td>27</td>\n",
       "      <td>6</td>\n",
       "      <td>9</td>\n",
       "      <td>1</td>\n",
       "      <td>0</td>\n",
       "      <td>1</td>\n",
       "      <td>5.62</td>\n",
       "      <td>0</td>\n",
       "      <td>0</td>\n",
       "      <td>...</td>\n",
       "      <td>0</td>\n",
       "      <td>0</td>\n",
       "      <td>0</td>\n",
       "      <td>0</td>\n",
       "      <td>0</td>\n",
       "      <td>0</td>\n",
       "      <td>0</td>\n",
       "      <td>0</td>\n",
       "      <td>0</td>\n",
       "      <td>0</td>\n",
       "    </tr>\n",
       "    <tr>\n",
       "      <th>49996</th>\n",
       "      <td>1</td>\n",
       "      <td>111</td>\n",
       "      <td>6</td>\n",
       "      <td>4</td>\n",
       "      <td>0</td>\n",
       "      <td>0</td>\n",
       "      <td>0</td>\n",
       "      <td>5.62</td>\n",
       "      <td>0</td>\n",
       "      <td>0</td>\n",
       "      <td>...</td>\n",
       "      <td>0</td>\n",
       "      <td>0</td>\n",
       "      <td>0</td>\n",
       "      <td>0</td>\n",
       "      <td>0</td>\n",
       "      <td>0</td>\n",
       "      <td>0</td>\n",
       "      <td>0</td>\n",
       "      <td>0</td>\n",
       "      <td>0</td>\n",
       "    </tr>\n",
       "    <tr>\n",
       "      <th>49997</th>\n",
       "      <td>1</td>\n",
       "      <td>24</td>\n",
       "      <td>6</td>\n",
       "      <td>22</td>\n",
       "      <td>0</td>\n",
       "      <td>0</td>\n",
       "      <td>1</td>\n",
       "      <td>5.62</td>\n",
       "      <td>0</td>\n",
       "      <td>0</td>\n",
       "      <td>...</td>\n",
       "      <td>0</td>\n",
       "      <td>0</td>\n",
       "      <td>0</td>\n",
       "      <td>0</td>\n",
       "      <td>0</td>\n",
       "      <td>0</td>\n",
       "      <td>0</td>\n",
       "      <td>0</td>\n",
       "      <td>0</td>\n",
       "      <td>0</td>\n",
       "    </tr>\n",
       "    <tr>\n",
       "      <th>49998</th>\n",
       "      <td>1</td>\n",
       "      <td>15</td>\n",
       "      <td>6</td>\n",
       "      <td>11</td>\n",
       "      <td>1</td>\n",
       "      <td>0</td>\n",
       "      <td>1</td>\n",
       "      <td>5.62</td>\n",
       "      <td>0</td>\n",
       "      <td>0</td>\n",
       "      <td>...</td>\n",
       "      <td>0</td>\n",
       "      <td>0</td>\n",
       "      <td>0</td>\n",
       "      <td>0</td>\n",
       "      <td>0</td>\n",
       "      <td>0</td>\n",
       "      <td>0</td>\n",
       "      <td>0</td>\n",
       "      <td>0</td>\n",
       "      <td>0</td>\n",
       "    </tr>\n",
       "    <tr>\n",
       "      <th>49999</th>\n",
       "      <td>1</td>\n",
       "      <td>19</td>\n",
       "      <td>6</td>\n",
       "      <td>10</td>\n",
       "      <td>0</td>\n",
       "      <td>1</td>\n",
       "      <td>0</td>\n",
       "      <td>5.62</td>\n",
       "      <td>0</td>\n",
       "      <td>0</td>\n",
       "      <td>...</td>\n",
       "      <td>0</td>\n",
       "      <td>0</td>\n",
       "      <td>0</td>\n",
       "      <td>0</td>\n",
       "      <td>0</td>\n",
       "      <td>0</td>\n",
       "      <td>0</td>\n",
       "      <td>0</td>\n",
       "      <td>0</td>\n",
       "      <td>0</td>\n",
       "    </tr>\n",
       "  </tbody>\n",
       "</table>\n",
       "<p>50000 rows × 815 columns</p>\n",
       "</div>"
      ],
      "text/plain": [
       "       num_passengers  purchase_lead  length_of_stay  flight_hour  \\\n",
       "0                   2            262              19            7   \n",
       "1                   1            112              20            3   \n",
       "2                   2            243              22           17   \n",
       "3                   1             96              31            4   \n",
       "4                   2             68              22           15   \n",
       "...               ...            ...             ...          ...   \n",
       "49995               2             27               6            9   \n",
       "49996               1            111               6            4   \n",
       "49997               1             24               6           22   \n",
       "49998               1             15               6           11   \n",
       "49999               1             19               6           10   \n",
       "\n",
       "       wants_extra_baggage  wants_preferred_seat  wants_in_flight_meals  \\\n",
       "0                        1                     0                      0   \n",
       "1                        0                     0                      0   \n",
       "2                        1                     1                      0   \n",
       "3                        0                     0                      1   \n",
       "4                        1                     0                      1   \n",
       "...                    ...                   ...                    ...   \n",
       "49995                    1                     0                      1   \n",
       "49996                    0                     0                      0   \n",
       "49997                    0                     0                      1   \n",
       "49998                    1                     0                      1   \n",
       "49999                    0                     1                      0   \n",
       "\n",
       "       flight_duration  sales_channel_Mobile  trip_type_OneWay  ...  \\\n",
       "0                 5.52                     0                 0  ...   \n",
       "1                 5.52                     0                 0  ...   \n",
       "2                 5.52                     0                 0  ...   \n",
       "3                 5.52                     0                 0  ...   \n",
       "4                 5.52                     0                 0  ...   \n",
       "...                ...                   ...               ...  ...   \n",
       "49995             5.62                     0                 0  ...   \n",
       "49996             5.62                     0                 0  ...   \n",
       "49997             5.62                     0                 0  ...   \n",
       "49998             5.62                     0                 0  ...   \n",
       "49999             5.62                     0                 0  ...   \n",
       "\n",
       "       route_TGGXIY  route_TPETRZ  route_TPETWU  route_TPEURT  route_TPEVTE  \\\n",
       "0                 0             0             0             0             0   \n",
       "1                 0             0             0             0             0   \n",
       "2                 0             0             0             0             0   \n",
       "3                 0             0             0             0             0   \n",
       "4                 0             0             0             0             0   \n",
       "...             ...           ...           ...           ...           ...   \n",
       "49995             0             0             0             0             0   \n",
       "49996             0             0             0             0             0   \n",
       "49997             0             0             0             0             0   \n",
       "49998             0             0             0             0             0   \n",
       "49999             0             0             0             0             0   \n",
       "\n",
       "       route_TRZWUH  route_TRZXIY  route_TWUWUH  route_TWUXIY  route_URTXIY  \n",
       "0                 0             0             0             0             0  \n",
       "1                 0             0             0             0             0  \n",
       "2                 0             0             0             0             0  \n",
       "3                 0             0             0             0             0  \n",
       "4                 0             0             0             0             0  \n",
       "...             ...           ...           ...           ...           ...  \n",
       "49995             0             0             0             0             0  \n",
       "49996             0             0             0             0             0  \n",
       "49997             0             0             0             0             0  \n",
       "49998             0             0             0             0             0  \n",
       "49999             0             0             0             0             0  \n",
       "\n",
       "[50000 rows x 815 columns]"
      ]
     },
     "execution_count": 29,
     "metadata": {},
     "output_type": "execute_result"
    }
   ],
   "source": [
    "x = dfnew.drop(columns = ['booking_complete', 'booking_origin'], axis =1)\n",
    "y = dfnew['booking_complete']\n",
    "x"
   ]
  },
  {
   "cell_type": "code",
   "execution_count": 30,
   "id": "43460506",
   "metadata": {},
   "outputs": [],
   "source": [
    "from sklearn.model_selection import train_test_split\n",
    "X_train, X_test, y_train, y_test = train_test_split(x, y, test_size=0.3, random_state=42)"
   ]
  },
  {
   "cell_type": "code",
   "execution_count": 31,
   "id": "2449e2b4",
   "metadata": {},
   "outputs": [],
   "source": [
    "#persiapan\n",
    "from sklearn.metrics import accuracy_score, precision_score, recall_score, f1_score, roc_auc_score\n",
    "from sklearn.model_selection import cross_validate\n",
    "\n",
    "def eval_classification(model):\n",
    "    y_pred_test = model.predict(X_test)\n",
    "    y_pred_train = model.predict(X_train)\n",
    "    y_pred_proba_test = model.predict_proba(X_test)\n",
    "    y_pred_proba_train = model.predict_proba(X_train)\n",
    "\n",
    "    print(\"Accuracy (Train Set): %.2f\" % accuracy_score(y_train, y_pred_train))\n",
    "    print(\"Precision (Train Set): %.2f\" % precision_score(y_train, y_pred_train))\n",
    "    print(\"Recall (Train Set): %.2f\" % recall_score(y_train, y_pred_train))\n",
    "    print(\"F1-Score (Train Set): %.2f\" % f1_score(y_train, y_pred_train))\n",
    "\n",
    "    print(\"Accuracy (Test Set): %.2f\" % accuracy_score(y_test, y_pred_test))\n",
    "    print(\"Precision (Test Set): %.2f\" % precision_score(y_test, y_pred_test))\n",
    "    print(\"Recall (Test Set): %.2f\" % recall_score(y_test, y_pred_test))\n",
    "    print(\"F1-Score (Test Set): %.2f\" % f1_score(y_test, y_pred_test))\n",
    "\n",
    "    print(\"roc_auc (test-proba): %.2f\" % roc_auc_score(y_test, y_pred_proba_test[:, 1]))\n",
    "    print(\"roc_auc (train-proba): %.2f\" % roc_auc_score(y_train, y_pred_proba_train[:, 1]))\n",
    "\n",
    "    score = cross_validate(model, X_train, y_train, cv=5, scoring='roc_auc', return_train_score=True)\n",
    "    print('roc_auc (crossval train): '+ str(score['train_score'].mean()))\n",
    "    print('roc_auc (crossval test): '+ str(score['test_score'].mean()))"
   ]
  },
  {
   "cell_type": "markdown",
   "id": "73909549",
   "metadata": {},
   "source": [
    "## Tanpa SMOTE"
   ]
  },
  {
   "cell_type": "markdown",
   "id": "f59fbeea",
   "metadata": {},
   "source": [
    "### Random Forest"
   ]
  },
  {
   "cell_type": "code",
   "execution_count": 32,
   "id": "a21a7ea7",
   "metadata": {},
   "outputs": [],
   "source": [
    "from sklearn.ensemble import RandomForestClassifier\n",
    "rf_model = RandomForestClassifier(n_estimators=100, random_state=42)\n",
    "\n",
    "rf_model.fit(X_train, y_train)\n",
    "y_pred = rf_model.predict(X_test)"
   ]
  },
  {
   "cell_type": "code",
   "execution_count": 33,
   "id": "5dbda691",
   "metadata": {},
   "outputs": [
    {
     "name": "stdout",
     "output_type": "stream",
     "text": [
      "RMSE: 0.39\n"
     ]
    }
   ],
   "source": [
    "#validasi\n",
    "from sklearn.metrics import mean_squared_error\n",
    "rmse = np.sqrt(mean_squared_error(y_test, y_pred))\n",
    "print(f'RMSE: {rmse:.2f}')"
   ]
  },
  {
   "cell_type": "code",
   "execution_count": 34,
   "id": "dbce06c6",
   "metadata": {},
   "outputs": [
    {
     "name": "stdout",
     "output_type": "stream",
     "text": [
      "Accuracy (Train Set): 1.00\n",
      "Precision (Train Set): 1.00\n",
      "Recall (Train Set): 1.00\n",
      "F1-Score (Train Set): 1.00\n",
      "Accuracy (Test Set): 0.85\n",
      "Precision (Test Set): 0.48\n",
      "Recall (Test Set): 0.10\n",
      "F1-Score (Test Set): 0.16\n",
      "roc_auc (test-proba): 0.74\n",
      "roc_auc (train-proba): 1.00\n",
      "roc_auc (crossval train): 0.9999999660496044\n",
      "roc_auc (crossval test): 0.732881369723129\n"
     ]
    }
   ],
   "source": [
    "eval_classification(rf_model)"
   ]
  },
  {
   "cell_type": "markdown",
   "id": "f42dd137",
   "metadata": {},
   "source": [
    "Jika nilai recall train dan test memiliki perbedaan yang signifikan, diperkirakan terjadi overfitting. sehingga perlu dilakukan hyperparameter tuning nantinya."
   ]
  },
  {
   "cell_type": "code",
   "execution_count": 35,
   "id": "3b899972",
   "metadata": {},
   "outputs": [
    {
     "data": {
      "image/png": "[encoded data removed]",
      "text/plain": [
       "<Figure size 432x288 with 2 Axes>"
      ]
     },
     "metadata": {
      "needs_background": "light"
     },
     "output_type": "display_data"
    }
   ],
   "source": [
    "# Buat confusion matrix\n",
    "from sklearn.metrics import confusion_matrix\n",
    "cm = confusion_matrix(y_test, y_pred)\n",
    "\n",
    "# Tampilkan confusion matrix dalam bentuk heatmap\n",
    "plt.figure(figsize=(6, 4))\n",
    "sns.heatmap(cm, annot=True, fmt='d', cmap='Blues',\n",
    "            xticklabels=['No', 'Yes'],\n",
    "            yticklabels=['No', 'Yes'])\n",
    "plt.xlabel('Prediction')\n",
    "plt.ylabel('real value')\n",
    "plt.title('Confusion Matrix')\n",
    "plt.show()"
   ]
  },
  {
   "cell_type": "code",
   "execution_count": 36,
   "id": "43b09494",
   "metadata": {},
   "outputs": [
    {
     "data": {
      "image/png": "[encoded data removed]",
      "text/plain": [
       "<Figure size 720x432 with 1 Axes>"
      ]
     },
     "metadata": {
      "needs_background": "light"
     },
     "output_type": "display_data"
    }
   ],
   "source": [
    "# Dapatkan fitur-fitur penting dari model\n",
    "feature_importances = rf_model.feature_importances_\n",
    "\n",
    "# Urutkan fitur-fitur penting dalam urutan menurun\n",
    "sorted_indices = feature_importances.argsort()[::-1]\n",
    "\n",
    "top_n = 10\n",
    "\n",
    "# Tampilkan fitur-fitur penting\n",
    "top_features = [x.columns[idx] for idx in sorted_indices[:top_n]]\n",
    "other_features = [x.columns[idx] for idx in sorted_indices[top_n:]]\n",
    "\n",
    "# Menggabungkan \"Others\" untuk fitur yang tidak termasuk dalam top 10\n",
    "feature_labels = top_features + ['Others']\n",
    "feature_importances = [feature_importances[idx] for idx in sorted_indices[:top_n]] + [sum(feature_importances[idx] for idx in sorted_indices[top_n:])]\n",
    "\n",
    "# Visualisasikan fitur-fitur penting\n",
    "plt.figure(figsize=(10, 6))\n",
    "plt.barh(range(len(feature_labels)), feature_importances)\n",
    "plt.yticks(range(len(feature_labels)), feature_labels)\n",
    "plt.xlabel('Important Value')\n",
    "plt.ylabel('Feature')\n",
    "plt.title('Feature Importance in Random Forest',  pad = 15, fontsize = 20, color = 'red')\n",
    "plt.tight_layout()\n",
    "plt.show()"
   ]
  },
  {
   "cell_type": "markdown",
   "id": "31eddbb8",
   "metadata": {},
   "source": [
    "### Decision Tree"
   ]
  },
  {
   "cell_type": "code",
   "execution_count": 37,
   "id": "0dd253b5",
   "metadata": {},
   "outputs": [],
   "source": [
    "import pandas as pd\n",
    "from sklearn.model_selection import train_test_split\n",
    "from sklearn.tree import DecisionTreeClassifier\n",
    "from sklearn.metrics import accuracy_score"
   ]
  },
  {
   "cell_type": "code",
   "execution_count": 38,
   "id": "64d6b9e3",
   "metadata": {},
   "outputs": [],
   "source": [
    "dt_model = DecisionTreeClassifier(random_state=42)\n",
    "dt_model.fit(X_train, y_train)\n",
    "\n",
    "y_pred = dt_model.predict(X_test)"
   ]
  },
  {
   "cell_type": "code",
   "execution_count": 39,
   "id": "6a5168f3",
   "metadata": {},
   "outputs": [
    {
     "name": "stdout",
     "output_type": "stream",
     "text": [
      "RMSE: 0.46\n"
     ]
    }
   ],
   "source": [
    "#validasi\n",
    "rmse = np.sqrt(mean_squared_error(y_test, y_pred))\n",
    "print(f'RMSE: {rmse:.2f}')"
   ]
  },
  {
   "cell_type": "code",
   "execution_count": 40,
   "id": "d57d9e63",
   "metadata": {
    "scrolled": true
   },
   "outputs": [
    {
     "name": "stdout",
     "output_type": "stream",
     "text": [
      "Accuracy (Train Set): 1.00\n",
      "Precision (Train Set): 1.00\n",
      "Recall (Train Set): 1.00\n",
      "F1-Score (Train Set): 1.00\n",
      "Accuracy (Test Set): 0.79\n",
      "Precision (Test Set): 0.28\n",
      "Recall (Test Set): 0.27\n",
      "F1-Score (Test Set): 0.28\n",
      "roc_auc (test-proba): 0.58\n",
      "roc_auc (train-proba): 1.00\n",
      "roc_auc (crossval train): 0.9999999700441592\n",
      "roc_auc (crossval test): 0.5691120879719209\n"
     ]
    }
   ],
   "source": [
    "eval_classification(dt_model)"
   ]
  },
  {
   "cell_type": "code",
   "execution_count": 41,
   "id": "266cef8b",
   "metadata": {},
   "outputs": [
    {
     "data": {
      "image/png": "[encoded data removed]",
      "text/plain": [
       "<Figure size 432x288 with 2 Axes>"
      ]
     },
     "metadata": {
      "needs_background": "light"
     },
     "output_type": "display_data"
    }
   ],
   "source": [
    "# Buat confusion matrix\n",
    "from sklearn.metrics import confusion_matrix\n",
    "cm = confusion_matrix(y_test, y_pred)\n",
    "\n",
    "# Tampilkan confusion matrix dalam bentuk heatmap\n",
    "plt.figure(figsize=(6, 4))\n",
    "sns.heatmap(cm, annot=True, fmt='d', cmap='Blues',\n",
    "            xticklabels=['No', 'Yes'],\n",
    "            yticklabels=['No', 'Yes'])\n",
    "plt.xlabel('Prediction')\n",
    "plt.ylabel('Real Value')\n",
    "plt.title('Confusion Matrix')\n",
    "plt.show()"
   ]
  },
  {
   "cell_type": "code",
   "execution_count": 42,
   "id": "01af9d61",
   "metadata": {},
   "outputs": [
    {
     "data": {
      "image/png": "[encoded data removed]",
      "text/plain": [
       "<Figure size 720x432 with 1 Axes>"
      ]
     },
     "metadata": {
      "needs_background": "light"
     },
     "output_type": "display_data"
    }
   ],
   "source": [
    "# Dapatkan fitur-fitur penting dari model\n",
    "feature_importances = dt_model.feature_importances_\n",
    "\n",
    "# Urutkan fitur-fitur penting dalam urutan menurun\n",
    "sorted_indices = feature_importances.argsort()[::-1]\n",
    "\n",
    "top_n = 10\n",
    "\n",
    "# Tampilkan fitur-fitur penting\n",
    "top_features = [x.columns[idx] for idx in sorted_indices[:top_n]]\n",
    "other_features = [x.columns[idx] for idx in sorted_indices[top_n:]]\n",
    "\n",
    "# Menggabungkan \"Others\" untuk fitur yang tidak termasuk dalam top 10\n",
    "feature_labels = top_features + ['Others']\n",
    "feature_importances = [feature_importances[idx] for idx in sorted_indices[:top_n]] + [sum(feature_importances[idx] for idx in sorted_indices[top_n:])]\n",
    "\n",
    "# Visualisasikan fitur-fitur penting\n",
    "plt.figure(figsize=(10, 6))\n",
    "plt.barh(range(len(feature_labels)), feature_importances)\n",
    "plt.yticks(range(len(feature_labels)), feature_labels)\n",
    "plt.xlabel('Nilai Penting')\n",
    "plt.ylabel('Fitur')\n",
    "plt.title('Fitur Penting dari Decision Tree', pad = 15, fontsize = 20, color = 'red')\n",
    "plt.tight_layout()\n",
    "plt.show()"
   ]
  },
  {
   "cell_type": "markdown",
   "id": "2372047d",
   "metadata": {},
   "source": [
    "### XGBoost"
   ]
  },
  {
   "cell_type": "code",
   "execution_count": 43,
   "id": "c4d680dc",
   "metadata": {},
   "outputs": [
    {
     "name": "stdout",
     "output_type": "stream",
     "text": [
      "Requirement already satisfied: xgboost in c:\\users\\user\\anaconda3\\lib\\site-packages (1.7.6)\n",
      "Requirement already satisfied: scipy in c:\\users\\user\\anaconda3\\lib\\site-packages (from xgboost) (1.7.3)\n",
      "Requirement already satisfied: numpy in c:\\users\\user\\anaconda3\\lib\\site-packages (from xgboost) (1.22.4)\n"
     ]
    }
   ],
   "source": [
    "!pip install xgboost"
   ]
  },
  {
   "cell_type": "code",
   "execution_count": 44,
   "id": "2e5abfb4",
   "metadata": {},
   "outputs": [],
   "source": [
    "from xgboost import XGBClassifier"
   ]
  },
  {
   "cell_type": "code",
   "execution_count": 45,
   "id": "b97342cd",
   "metadata": {},
   "outputs": [],
   "source": [
    "# Buat model XGBoost\n",
    "model = XGBClassifier()\n",
    "model.fit(X_train, y_train)\n",
    "\n",
    "y_pred = model.predict(X_test)"
   ]
  },
  {
   "cell_type": "code",
   "execution_count": 46,
   "id": "2adfd081",
   "metadata": {},
   "outputs": [
    {
     "name": "stdout",
     "output_type": "stream",
     "text": [
      "RMSE: 0.39\n"
     ]
    }
   ],
   "source": [
    "#validasi\n",
    "rmse = np.sqrt(mean_squared_error(y_test, y_pred))\n",
    "print(f'RMSE: {rmse:.2f}')"
   ]
  },
  {
   "cell_type": "code",
   "execution_count": 47,
   "id": "ff5f41bc",
   "metadata": {
    "scrolled": true
   },
   "outputs": [
    {
     "name": "stdout",
     "output_type": "stream",
     "text": [
      "Accuracy (Train Set): 1.00\n",
      "Precision (Train Set): 1.00\n",
      "Recall (Train Set): 1.00\n",
      "F1-Score (Train Set): 1.00\n",
      "Accuracy (Test Set): 0.79\n",
      "Precision (Test Set): 0.28\n",
      "Recall (Test Set): 0.27\n",
      "F1-Score (Test Set): 0.28\n",
      "roc_auc (test-proba): 0.58\n",
      "roc_auc (train-proba): 1.00\n",
      "roc_auc (crossval train): 0.9999999700441592\n",
      "roc_auc (crossval test): 0.5691120879719209\n"
     ]
    }
   ],
   "source": [
    "eval_classification(dt_model)"
   ]
  },
  {
   "cell_type": "code",
   "execution_count": 48,
   "id": "f8e92742",
   "metadata": {},
   "outputs": [
    {
     "data": {
      "image/png": "[encoded data removed]",
      "text/plain": [
       "<Figure size 432x288 with 2 Axes>"
      ]
     },
     "metadata": {
      "needs_background": "light"
     },
     "output_type": "display_data"
    }
   ],
   "source": [
    "# Buat confusion matrix\n",
    "from sklearn.metrics import confusion_matrix\n",
    "cm = confusion_matrix(y_test, y_pred)\n",
    "\n",
    "# Tampilkan confusion matrix dalam bentuk heatmap\n",
    "plt.figure(figsize=(6, 4))\n",
    "sns.heatmap(cm, annot=True, fmt='d', cmap='Blues',\n",
    "            xticklabels=['No', 'Yes'],\n",
    "            yticklabels=['No', 'Yes'])\n",
    "plt.xlabel('Prediction')\n",
    "plt.ylabel('Real Value')\n",
    "plt.title('Confusion Matrix')\n",
    "plt.show()"
   ]
  },
  {
   "cell_type": "code",
   "execution_count": 49,
   "id": "79d8af55",
   "metadata": {},
   "outputs": [
    {
     "data": {
      "image/png": "[encoded data removed]",
      "text/plain": [
       "<Figure size 720x432 with 1 Axes>"
      ]
     },
     "metadata": {
      "needs_background": "light"
     },
     "output_type": "display_data"
    }
   ],
   "source": [
    "# Dapatkan fitur-fitur penting dari model\n",
    "feature_importances = dt_model.feature_importances_\n",
    "\n",
    "# Urutkan fitur-fitur penting dalam urutan menurun\n",
    "sorted_indices = feature_importances.argsort()[::-1]\n",
    "\n",
    "top_n = 10\n",
    "\n",
    "# Tampilkan fitur-fitur penting\n",
    "top_features = [x.columns[idx] for idx in sorted_indices[:top_n]]\n",
    "other_features = [x.columns[idx] for idx in sorted_indices[top_n:]]\n",
    "\n",
    "# Menggabungkan \"Others\" untuk fitur yang tidak termasuk dalam top 10\n",
    "feature_labels = top_features + ['Others']\n",
    "feature_importances = [feature_importances[idx] for idx in sorted_indices[:top_n]] + [sum(feature_importances[idx] for idx in sorted_indices[top_n:])]\n",
    "\n",
    "# Visualisasikan fitur-fitur penting\n",
    "plt.figure(figsize=(10, 6))\n",
    "plt.barh(range(len(feature_labels)), feature_importances)\n",
    "plt.yticks(range(len(feature_labels)), feature_labels)\n",
    "plt.xlabel('Nilai Penting')\n",
    "plt.ylabel('Fitur')\n",
    "plt.title('Fitur Penting dari XGBoost', pad = 15, fontsize = 20, color = 'red')\n",
    "plt.tight_layout()\n",
    "plt.show()"
   ]
  },
  {
   "cell_type": "markdown",
   "id": "a84c63e8",
   "metadata": {},
   "source": [
    "## Dengan SMOTE"
   ]
  },
  {
   "cell_type": "code",
   "execution_count": 50,
   "id": "bbc5f71d",
   "metadata": {},
   "outputs": [
    {
     "name": "stdout",
     "output_type": "stream",
     "text": [
      "Requirement already satisfied: imbalanced-learn in c:\\users\\user\\anaconda3\\lib\\site-packages (0.11.0)\n",
      "Requirement already satisfied: scikit-learn>=1.0.2 in c:\\users\\user\\anaconda3\\lib\\site-packages (from imbalanced-learn) (1.0.2)\n",
      "Requirement already satisfied: threadpoolctl>=2.0.0 in c:\\users\\user\\anaconda3\\lib\\site-packages (from imbalanced-learn) (2.2.0)\n",
      "Requirement already satisfied: numpy>=1.17.3 in c:\\users\\user\\anaconda3\\lib\\site-packages (from imbalanced-learn) (1.22.4)\n",
      "Requirement already satisfied: joblib>=1.1.1 in c:\\users\\user\\anaconda3\\lib\\site-packages (from imbalanced-learn) (1.3.2)\n",
      "Requirement already satisfied: scipy>=1.5.0 in c:\\users\\user\\anaconda3\\lib\\site-packages (from imbalanced-learn) (1.7.3)\n"
     ]
    }
   ],
   "source": [
    "!pip install imbalanced-learn"
   ]
  },
  {
   "cell_type": "code",
   "execution_count": 51,
   "id": "11dd8f86",
   "metadata": {},
   "outputs": [],
   "source": [
    "from imblearn.over_sampling import SMOTE\n",
    "\n",
    "smt = SMOTE(sampling_strategy='auto')\n",
    "x_resampled, y_resampled = smt.fit_resample(x, y)"
   ]
  },
  {
   "cell_type": "code",
   "execution_count": 52,
   "id": "52c5a61a",
   "metadata": {},
   "outputs": [],
   "source": [
    "X_train, X_test, y_train, y_test = train_test_split(x_resampled, y_resampled, test_size=0.3, random_state=42)"
   ]
  },
  {
   "cell_type": "markdown",
   "id": "cdd1a064",
   "metadata": {},
   "source": [
    "### Random Forest"
   ]
  },
  {
   "cell_type": "code",
   "execution_count": 53,
   "id": "40045ed4",
   "metadata": {},
   "outputs": [],
   "source": [
    "rf_model = RandomForestClassifier(n_estimators=100, random_state=42)\n",
    "\n",
    "rf_model.fit(X_train, y_train)\n",
    "y_pred = rf_model.predict(X_test)"
   ]
  },
  {
   "cell_type": "code",
   "execution_count": 54,
   "id": "4ad2e68f",
   "metadata": {},
   "outputs": [
    {
     "name": "stdout",
     "output_type": "stream",
     "text": [
      "RMSE: 0.35\n"
     ]
    }
   ],
   "source": [
    "#validasi\n",
    "from sklearn.metrics import mean_squared_error\n",
    "rmse = np.sqrt(mean_squared_error(y_test, y_pred))\n",
    "print(f'RMSE: {rmse:.2f}')"
   ]
  },
  {
   "cell_type": "code",
   "execution_count": 55,
   "id": "783be2e9",
   "metadata": {
    "scrolled": true
   },
   "outputs": [
    {
     "name": "stdout",
     "output_type": "stream",
     "text": [
      "Accuracy (Train Set): 1.00\n",
      "Precision (Train Set): 1.00\n",
      "Recall (Train Set): 1.00\n",
      "F1-Score (Train Set): 1.00\n",
      "Accuracy (Test Set): 0.88\n",
      "Precision (Test Set): 0.89\n",
      "Recall (Test Set): 0.87\n",
      "F1-Score (Test Set): 0.88\n",
      "roc_auc (test-proba): 0.94\n",
      "roc_auc (train-proba): 1.00\n",
      "roc_auc (crossval train): 0.9999998620830283\n",
      "roc_auc (crossval test): 0.9417517044847481\n"
     ]
    }
   ],
   "source": [
    "eval_classification(rf_model)"
   ]
  },
  {
   "cell_type": "code",
   "execution_count": 56,
   "id": "52d5df40",
   "metadata": {},
   "outputs": [
    {
     "data": {
      "image/png": "[encoded data removed]",
      "text/plain": [
       "<Figure size 432x288 with 2 Axes>"
      ]
     },
     "metadata": {
      "needs_background": "light"
     },
     "output_type": "display_data"
    }
   ],
   "source": [
    "# Buat confusion matrix\n",
    "from sklearn.metrics import confusion_matrix\n",
    "cm = confusion_matrix(y_test, y_pred)\n",
    "\n",
    "# Tampilkan confusion matrix dalam bentuk heatmap\n",
    "plt.figure(figsize=(6, 4))\n",
    "sns.heatmap(cm, annot=True, fmt='d', cmap='Blues',\n",
    "            xticklabels=['No', 'Yes'],\n",
    "            yticklabels=['No', 'Yes'])\n",
    "plt.xlabel('Prediction')\n",
    "plt.ylabel('real value')\n",
    "plt.title('Confusion Matrix')\n",
    "plt.show()"
   ]
  },
  {
   "cell_type": "code",
   "execution_count": 74,
   "id": "f5c9aca2",
   "metadata": {},
   "outputs": [
    {
     "data": {
      "image/png": "[encoded data removed]",
      "text/plain": [
       "<Figure size 720x432 with 1 Axes>"
      ]
     },
     "metadata": {
      "needs_background": "light"
     },
     "output_type": "display_data"
    }
   ],
   "source": [
    "# Dapatkan fitur-fitur penting dari model\n",
    "feature_importances = rf_model.feature_importances_\n",
    "\n",
    "# Urutkan fitur-fitur penting dalam urutan menurun\n",
    "sorted_indices = feature_importances.argsort()[::-1]\n",
    "\n",
    "top_n = 10\n",
    "\n",
    "# Tampilkan fitur-fitur penting\n",
    "top_features = [x.columns[idx] for idx in sorted_indices[:top_n]]\n",
    "\n",
    "# Visualisasikan fitur-fitur penting\n",
    "plt.figure(figsize=(10, 6))\n",
    "plt.barh(range(len(top_features)), [feature_importances[idx] for idx in sorted_indices[:top_n]])\n",
    "plt.yticks(range(len(top_features)), top_features)\n",
    "plt.xlabel('Important Value')\n",
    "plt.ylabel('Feature')\n",
    "plt.title('Feature Important of Random Forest (SMOTE)', pad=15, fontsize=20, color='red')\n",
    "plt.tight_layout()\n",
    "plt.show()"
   ]
  },
  {
   "cell_type": "markdown",
   "id": "c5b4a6d2",
   "metadata": {},
   "source": [
    "### Decision Tree"
   ]
  },
  {
   "cell_type": "code",
   "execution_count": 75,
   "id": "12fedb6b",
   "metadata": {},
   "outputs": [],
   "source": [
    "import pandas as pd\n",
    "from sklearn.model_selection import train_test_split\n",
    "from sklearn.tree import DecisionTreeClassifier\n",
    "from sklearn.metrics import accuracy_score"
   ]
  },
  {
   "cell_type": "code",
   "execution_count": 76,
   "id": "2d0d79ca",
   "metadata": {},
   "outputs": [],
   "source": [
    "dt_model = DecisionTreeClassifier(random_state=42)\n",
    "dt_model.fit(X_train, y_train)\n",
    "\n",
    "y_pred = dt_model.predict(X_test)"
   ]
  },
  {
   "cell_type": "code",
   "execution_count": 77,
   "id": "560f499a",
   "metadata": {},
   "outputs": [
    {
     "name": "stdout",
     "output_type": "stream",
     "text": [
      "RMSE: 0.39\n"
     ]
    }
   ],
   "source": [
    "#validasi\n",
    "rmse = np.sqrt(mean_squared_error(y_test, y_pred))\n",
    "print(f'RMSE: {rmse:.2f}')"
   ]
  },
  {
   "cell_type": "code",
   "execution_count": 78,
   "id": "156760ac",
   "metadata": {
    "scrolled": true
   },
   "outputs": [
    {
     "name": "stdout",
     "output_type": "stream",
     "text": [
      "Accuracy (Train Set): 1.00\n",
      "Precision (Train Set): 1.00\n",
      "Recall (Train Set): 1.00\n",
      "F1-Score (Train Set): 1.00\n",
      "Accuracy (Test Set): 0.85\n",
      "Precision (Test Set): 0.84\n",
      "Recall (Test Set): 0.86\n",
      "F1-Score (Test Set): 0.85\n",
      "roc_auc (test-proba): 0.85\n",
      "roc_auc (train-proba): 1.00\n",
      "roc_auc (crossval train): 0.999999998236356\n",
      "roc_auc (crossval test): 0.8450059186727351\n"
     ]
    }
   ],
   "source": [
    "eval_classification(dt_model)"
   ]
  },
  {
   "cell_type": "code",
   "execution_count": 79,
   "id": "3fd29be9",
   "metadata": {},
   "outputs": [
    {
     "data": {
      "image/png": "[encoded data removed]",
      "text/plain": [
       "<Figure size 432x288 with 2 Axes>"
      ]
     },
     "metadata": {
      "needs_background": "light"
     },
     "output_type": "display_data"
    }
   ],
   "source": [
    "# Buat confusion matrix\n",
    "from sklearn.metrics import confusion_matrix\n",
    "cm = confusion_matrix(y_test, y_pred)\n",
    "\n",
    "# Tampilkan confusion matrix dalam bentuk heatmap\n",
    "plt.figure(figsize=(6, 4))\n",
    "sns.heatmap(cm, annot=True, fmt='d', cmap='Blues',\n",
    "            xticklabels=['No', 'Yes'],\n",
    "            yticklabels=['No', 'Yes'])\n",
    "plt.xlabel('Prediction')\n",
    "plt.ylabel('Real Value')\n",
    "plt.title('Confusion Matrix')\n",
    "plt.show()"
   ]
  },
  {
   "cell_type": "code",
   "execution_count": 80,
   "id": "e02659cc",
   "metadata": {},
   "outputs": [
    {
     "data": {
      "image/png": "[encoded data removed]",
      "text/plain": [
       "<Figure size 720x432 with 1 Axes>"
      ]
     },
     "metadata": {
      "needs_background": "light"
     },
     "output_type": "display_data"
    }
   ],
   "source": [
    "# Dapatkan fitur-fitur penting dari model\n",
    "feature_importances = dt_model.feature_importances_\n",
    "\n",
    "# Urutkan fitur-fitur penting dalam urutan menurun\n",
    "sorted_indices = feature_importances.argsort()[::-1]\n",
    "\n",
    "top_n = 10\n",
    "\n",
    "# Tampilkan fitur-fitur penting\n",
    "top_features = [x.columns[idx] for idx in sorted_indices[:top_n]]\n",
    "other_features = [x.columns[idx] for idx in sorted_indices[top_n:]]\n",
    "\n",
    "# Menggabungkan \"Others\" untuk fitur yang tidak termasuk dalam top 10\n",
    "feature_labels = top_features + ['Others']\n",
    "feature_importances = [feature_importances[idx] for idx in sorted_indices[:top_n]] + [sum(feature_importances[idx] for idx in sorted_indices[top_n:])]\n",
    "\n",
    "# Visualisasikan fitur-fitur penting\n",
    "plt.figure(figsize=(10, 6))\n",
    "plt.barh(range(len(feature_labels)), feature_importances)\n",
    "plt.yticks(range(len(feature_labels)), feature_labels)\n",
    "plt.xlabel('Nilai Penting')\n",
    "plt.ylabel('Fitur')\n",
    "plt.title('Fitur Penting dari Decision Tree', pad = 15, fontsize = 20, color = 'red')\n",
    "plt.tight_layout()\n",
    "plt.show()"
   ]
  },
  {
   "cell_type": "markdown",
   "id": "1c1a4061",
   "metadata": {},
   "source": [
    "### XGBoost"
   ]
  },
  {
   "cell_type": "code",
   "execution_count": 81,
   "id": "d58fd755",
   "metadata": {},
   "outputs": [],
   "source": [
    "# Buat model XGBoost\n",
    "model = XGBClassifier()\n",
    "model.fit(X_train, y_train)\n",
    "\n",
    "y_pred = model.predict(X_test)"
   ]
  },
  {
   "cell_type": "code",
   "execution_count": 82,
   "id": "8aacee76",
   "metadata": {},
   "outputs": [
    {
     "name": "stdout",
     "output_type": "stream",
     "text": [
      "RMSE: 0.38\n"
     ]
    }
   ],
   "source": [
    "#validasi\n",
    "rmse = np.sqrt(mean_squared_error(y_test, y_pred))\n",
    "print(f'RMSE: {rmse:.2f}')"
   ]
  },
  {
   "cell_type": "code",
   "execution_count": 83,
   "id": "72765fff",
   "metadata": {
    "scrolled": true
   },
   "outputs": [
    {
     "name": "stdout",
     "output_type": "stream",
     "text": [
      "Accuracy (Train Set): 1.00\n",
      "Precision (Train Set): 1.00\n",
      "Recall (Train Set): 1.00\n",
      "F1-Score (Train Set): 1.00\n",
      "Accuracy (Test Set): 0.85\n",
      "Precision (Test Set): 0.84\n",
      "Recall (Test Set): 0.86\n",
      "F1-Score (Test Set): 0.85\n",
      "roc_auc (test-proba): 0.85\n",
      "roc_auc (train-proba): 1.00\n",
      "roc_auc (crossval train): 0.999999998236356\n",
      "roc_auc (crossval test): 0.8450059186727351\n"
     ]
    }
   ],
   "source": [
    "eval_classification(dt_model)"
   ]
  },
  {
   "cell_type": "code",
   "execution_count": 84,
   "id": "de57db93",
   "metadata": {},
   "outputs": [
    {
     "data": {
      "image/png": "[encoded data removed]",
      "text/plain": [
       "<Figure size 432x288 with 2 Axes>"
      ]
     },
     "metadata": {
      "needs_background": "light"
     },
     "output_type": "display_data"
    }
   ],
   "source": [
    "# Buat confusion matrix\n",
    "from sklearn.metrics import confusion_matrix\n",
    "cm = confusion_matrix(y_test, y_pred)\n",
    "\n",
    "# Tampilkan confusion matrix dalam bentuk heatmap\n",
    "plt.figure(figsize=(6, 4))\n",
    "sns.heatmap(cm, annot=True, fmt='d', cmap='Blues',\n",
    "            xticklabels=['No', 'Yes'],\n",
    "            yticklabels=['No', 'Yes'])\n",
    "plt.xlabel('Prediction')\n",
    "plt.ylabel('Real Value')\n",
    "plt.title('Confusion Matrix')\n",
    "plt.show()"
   ]
  },
  {
   "cell_type": "code",
   "execution_count": 85,
   "id": "7e2b8b75",
   "metadata": {},
   "outputs": [
    {
     "data": {
      "image/png": "[encoded data removed]",
      "text/plain": [
       "<Figure size 720x432 with 1 Axes>"
      ]
     },
     "metadata": {
      "needs_background": "light"
     },
     "output_type": "display_data"
    }
   ],
   "source": [
    "# Dapatkan fitur-fitur penting dari model\n",
    "feature_importances = dt_model.feature_importances_\n",
    "\n",
    "# Urutkan fitur-fitur penting dalam urutan menurun\n",
    "sorted_indices = feature_importances.argsort()[::-1]\n",
    "\n",
    "top_n = 10\n",
    "\n",
    "# Tampilkan fitur-fitur penting\n",
    "top_features = [x.columns[idx] for idx in sorted_indices[:top_n]]\n",
    "other_features = [x.columns[idx] for idx in sorted_indices[top_n:]]\n",
    "\n",
    "# Menggabungkan \"Others\" untuk fitur yang tidak termasuk dalam top 10\n",
    "feature_labels = top_features + ['Others']\n",
    "feature_importances = [feature_importances[idx] for idx in sorted_indices[:top_n]] + [sum(feature_importances[idx] for idx in sorted_indices[top_n:])]\n",
    "\n",
    "# Visualisasikan fitur-fitur penting\n",
    "plt.figure(figsize=(10, 6))\n",
    "plt.barh(range(len(feature_labels)), feature_importances)\n",
    "plt.yticks(range(len(feature_labels)), feature_labels)\n",
    "plt.xlabel('Nilai Penting')\n",
    "plt.ylabel('Fitur')\n",
    "plt.title('Fitur Penting dari XGBoost', pad = 15, fontsize = 20, color = 'red')\n",
    "plt.tight_layout()\n",
    "plt.show()"
   ]
  }
 ],
 "metadata": {
  "kernelspec": {
   "display_name": "Python 3 (ipykernel)",
   "language": "python",
   "name": "python3"
  },
  "language_info": {
   "codemirror_mode": {
    "name": "ipython",
    "version": 3
   },
   "file_extension": ".py",
   "mimetype": "text/x-python",
   "name": "python",
   "nbconvert_exporter": "python",
   "pygments_lexer": "ipython3",
   "version": "3.9.12"
  }
 },
 "nbformat": 4,
 "nbformat_minor": 5
}
